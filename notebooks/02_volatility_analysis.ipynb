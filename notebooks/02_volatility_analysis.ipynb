{
 "cells": [
  {
   "cell_type": "code",
   "execution_count": 1,
   "metadata": {},
   "outputs": [],
   "source": [
    "# loading libraries\n",
    "import pandas as pd\n",
    "import numpy as np\n",
    "import matplotlib.pyplot as plt\n",
    "import sys\n",
    "import os\n",
    "\n",
    "# Add the 'src' folder to the path\n",
    "sys.path.append(os.path.abspath('../src'))\n",
    "from utils.preprocessing import load_and_prepare"
   ]
  },
  {
   "cell_type": "code",
   "execution_count": null,
   "metadata": {},
   "outputs": [],
   "source": [
    "# Core assets loaded individually for clarity\n",
    "aapl = load_and_prepare('../data/AAPL.csv')\n",
    "btc = load_and_prepare('../data/BTC-USD.csv')\n",
    "gspc = load_and_prepare('../data/GSPC.csv')\n",
    "\n",
    "# Store in a dictionary for easy group operations\n",
    "assets = {\n",
    "    'AAPL': aapl,\n",
    "    'BTC-USD': btc, \n",
    "    'GSPC': gspc\n",
    "}\n",
    "# Now you can use individual variables or the dictionary as needed"
   ]
  },
  {
   "cell_type": "code",
   "execution_count": 3,
   "metadata": {},
   "outputs": [],
   "source": [
    "#  checking data set:\n"
   ]
  },
  {
   "cell_type": "code",
   "execution_count": null,
   "metadata": {},
   "outputs": [],
   "source": []
  }
 ],
 "metadata": {
  "kernelspec": {
   "display_name": "venv",
   "language": "python",
   "name": "python3"
  },
  "language_info": {
   "codemirror_mode": {
    "name": "ipython",
    "version": 3
   },
   "file_extension": ".py",
   "mimetype": "text/x-python",
   "name": "python",
   "nbconvert_exporter": "python",
   "pygments_lexer": "ipython3",
   "version": "3.13.0"
  }
 },
 "nbformat": 4,
 "nbformat_minor": 2
}
